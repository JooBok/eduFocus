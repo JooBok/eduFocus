{
 "cells": [
  {
   "cell_type": "code",
   "execution_count": 4,
   "metadata": {},
   "outputs": [],
   "source": [
    "import cv2\n",
    "import os\n",
    "\n",
    "# 저장할 이미지 폴더 생성\n",
    "# output_folder = 'contents_frames'  # 콘텐츠 폴더\n",
    "output_folder = 'face_frames'  # 얼굴 폴더\n",
    "os.makedirs(output_folder, exist_ok=True)\n",
    "\n",
    "# 동영상 파일 경로\n",
    "# video_path = 'input_data/user_id1/contents/output.mp4'  # 콘텐츠 비디오\n",
    "video_path = 'input_data/user_id1/user_face/face1.mp4'  # 얼굴 비디오\n",
    "\n",
    "# 동영상 파일 캡처 초기화\n",
    "video_cap = cv2.VideoCapture(video_path)\n",
    "\n",
    "# 비디오의 프레임 레이트 얻기\n",
    "fps = video_cap.get(cv2.CAP_PROP_FPS)\n",
    "frame_interval = int(fps)  # 1초 간격 (fps 기준으로 프레임 수)\n",
    "\n",
    "frame_count = 0\n",
    "\n",
    "while video_cap.isOpened():\n",
    "    success, frame = video_cap.read()\n",
    "    if not success:\n",
    "        break\n",
    "    \n",
    "    # 1초(프레임 레이트 수)마다 프레임 저장\n",
    "    if frame_count % frame_interval == 0:\n",
    "        output_path = os.path.join(output_folder, f'frame_{frame_count // frame_interval:04d}.png')\n",
    "        cv2.imwrite(output_path, frame)\n",
    "    \n",
    "    frame_count += 1\n",
    "\n",
    "video_cap.release()\n"
   ]
  }
 ],
 "metadata": {
  "kernelspec": {
   "display_name": "Python venv",
   "language": "python",
   "name": "venv"
  },
  "language_info": {
   "codemirror_mode": {
    "name": "ipython",
    "version": 3
   },
   "file_extension": ".py",
   "mimetype": "text/x-python",
   "name": "python",
   "nbconvert_exporter": "python",
   "pygments_lexer": "ipython3",
   "version": "3.8.10"
  }
 },
 "nbformat": 4,
 "nbformat_minor": 2
}
